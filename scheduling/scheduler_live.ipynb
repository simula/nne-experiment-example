{
 "cells": [
  {
   "cell_type": "markdown",
   "id": "3ce4c4e0",
   "metadata": {},
   "source": [
    "# configuration"
   ]
  },
  {
   "cell_type": "code",
   "execution_count": null,
   "id": "530df518",
   "metadata": {
    "ExecuteTime": {
     "end_time": "2023-05-31T15:38:18.990857Z",
     "start_time": "2023-05-31T15:38:18.966483Z"
    }
   },
   "outputs": [],
   "source": [
    "from scheduler import *\n",
    "\n",
    "s = scheduler(\n",
    "            pioneerKeyPath = '/home/foivos/.ssh/monroeResults', # <-- change this to point to your own pioneer key\n",
    "            pioneerUser = 'foivos',  # <-- change this to point to your own pioneer user\n",
    "            userId = 245, # <-- change this to your own user ID\n",
    "            pendingFilesClientDir = \"../pendingFilesClient/\", # directory where we save the results of the experiments\n",
    "            processedFilesClientDir = \"../processedFilesClient/\",\n",
    "            supportDir = './', # directory where we store the intermediate scheduling files.\n",
    "            PemKeyDir = '/home/foivos/foivos.key.pem', # pem key directory\n",
    "            PemCerDir = '/home/foivos/foivos.crt.pem' # pem certificate directory\n",
    "            )"
   ]
  },
  {
   "cell_type": "markdown",
   "id": "33530d53",
   "metadata": {
    "ExecuteTime": {
     "end_time": "2023-05-31T14:56:31.680895Z",
     "start_time": "2023-05-31T14:56:31.670150Z"
    }
   },
   "source": [
    "# Retrieve a list of the scheduled experiments (past and future) and download related results of a user scheduled after a date."
   ]
  },
  {
   "cell_type": "code",
   "execution_count": null,
   "id": "ae78004b",
   "metadata": {
    "ExecuteTime": {
     "end_time": "2023-05-31T17:03:23.379135Z",
     "start_time": "2023-05-31T17:03:22.525948Z"
    }
   },
   "outputs": [],
   "source": [
    "startDate = \"2023-05-30 00:00:00\"\n",
    "\n",
    "scheduledExepriments = s.getUserExperimentsDate(startDate)\n",
    "expIds = getExperimentIds(scheduledExepriments)\n",
    "epxerimentElements = s.getSpecificExperimentElements(expIds)\n",
    "for experiment, elementList in epxerimentElements.items():\n",
    "    for element in elementList:\n",
    "        print(element)\n",
    "        try:\n",
    "            s.downloadExperimentalElementResults(element)\n",
    "        except:\n",
    "            print(\"Not able to download\")\n",
    "            continue"
   ]
  },
  {
   "cell_type": "markdown",
   "id": "0e758cf3",
   "metadata": {},
   "source": [
    "# Download experiments"
   ]
  },
  {
   "cell_type": "code",
   "execution_count": null,
   "id": "54a68406",
   "metadata": {
    "ExecuteTime": {
     "end_time": "2023-05-31T15:26:39.245116Z",
     "start_time": "2023-05-31T15:26:38.369144Z"
    }
   },
   "outputs": [],
   "source": [
    "s.downloadExperimentalElementResults(2985817)"
   ]
  },
  {
   "cell_type": "markdown",
   "id": "51e54924",
   "metadata": {},
   "source": [
    "# submit experiment to a list of nodes"
   ]
  },
  {
   "cell_type": "code",
   "execution_count": null,
   "id": "e9fc1678",
   "metadata": {
    "ExecuteTime": {
     "end_time": "2023-05-31T16:45:20.574207Z",
     "start_time": "2023-05-31T16:44:41.134737Z"
    }
   },
   "outputs": [],
   "source": [
    "# check in scheduler.py for predifined node lists.\n",
    "nodeList = [4125]\n",
    "# nodeList = new_5G_nodes\n",
    "\n",
    "# start at a specific UTC time\n",
    "# start = getTimestamp('2021-04-08 23:00:00')\n",
    "# alternatively start 10 minutes from now\n",
    "# you need to schedule experiments at least 5 minutes from now to allow the scheduler to\n",
    "# communicate them to the nodes in time.\n",
    "start = int(time.time() + 600)\n",
    "\n",
    "duration = 600\n",
    "nodecount = 1\n",
    "experimentName = \"simple ping programmatically\"\n",
    "containerURL = \"docker.io/crnaeng/simpleping\"\n",
    "optionsList = [    \n",
    "    {\n",
    "        \"targets\": [\"www.vg.no\"],\n",
    "         \"numberOfPings\": 5,\n",
    "         \"Operator\": [\"Telenor\", \"Telia\"]\n",
    "    }\n",
    "]\n",
    "\n",
    "# j: how many times to run an experiment per nonde\n",
    "# i: some time spacing between nodes to make sure that they do not send requests to the same servers at the same time\n",
    "# x: The different configurations, such as operators / interfaces\n",
    "for j in range(1):\n",
    "    for i in range(len(nodeList)):\n",
    "        for x in range(len(optionsList)):\n",
    "            initiallyRequestedStartTime = start + (3600 * j) + (i * 300) + (600 * x)\n",
    "            nodeAvailability = s.checkAvailability(nodeList[i], initiallyRequestedStartTime, duration, nodecount)\n",
    "            nonConflictingStartTime = nodeAvailability[0][\"start\"]\n",
    "            print(f\"Initially requested start time: UTC timestamp {initiallyRequestedStartTime}, UTC human readable: {humanDate(initiallyRequestedStartTime)}\")\n",
    "            print(f\"nonConflictingStartTime: {nonConflictingStartTime}, UTC human readable: {humanDate(nonConflictingStartTime)}\")\n",
    "            s.submitExperiment(nodeList[i], nonConflictingStartTime, duration, nodecount, f\"{experimentName} on node {str(nodeList[i])}\", containerURL, optionsList[x])"
   ]
  }
 ],
 "metadata": {
  "kernelspec": {
   "display_name": "Python [conda env:foivos] *",
   "language": "python",
   "name": "conda-env-foivos-py"
  },
  "language_info": {
   "codemirror_mode": {
    "name": "ipython",
    "version": 3
   },
   "file_extension": ".py",
   "mimetype": "text/x-python",
   "name": "python",
   "nbconvert_exporter": "python",
   "pygments_lexer": "ipython3",
   "version": "3.10.9"
  },
  "toc": {
   "base_numbering": 1,
   "nav_menu": {},
   "number_sections": true,
   "sideBar": true,
   "skip_h1_title": false,
   "title_cell": "Table of Contents",
   "title_sidebar": "Contents",
   "toc_cell": false,
   "toc_position": {},
   "toc_section_display": true,
   "toc_window_display": false
  }
 },
 "nbformat": 4,
 "nbformat_minor": 5
}
